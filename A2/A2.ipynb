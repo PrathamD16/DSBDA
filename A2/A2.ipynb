{
 "cells": [
  {
   "cell_type": "code",
   "execution_count": 1,
   "id": "fc0b211a",
   "metadata": {
    "tags": []
   },
   "outputs": [
    {
     "data": {
      "text/html": [
       "<div>\n",
       "<style scoped>\n",
       "    .dataframe tbody tr th:only-of-type {\n",
       "        vertical-align: middle;\n",
       "    }\n",
       "\n",
       "    .dataframe tbody tr th {\n",
       "        vertical-align: top;\n",
       "    }\n",
       "\n",
       "    .dataframe thead th {\n",
       "        text-align: right;\n",
       "    }\n",
       "</style>\n",
       "<table border=\"1\" class=\"dataframe\">\n",
       "  <thead>\n",
       "    <tr style=\"text-align: right;\">\n",
       "      <th></th>\n",
       "      <th>math score</th>\n",
       "      <th>reading score</th>\n",
       "      <th>writing score</th>\n",
       "    </tr>\n",
       "  </thead>\n",
       "  <tbody>\n",
       "    <tr>\n",
       "      <th>count</th>\n",
       "      <td>994.000000</td>\n",
       "      <td>994.000000</td>\n",
       "      <td>994.000000</td>\n",
       "    </tr>\n",
       "    <tr>\n",
       "      <th>mean</th>\n",
       "      <td>66.081489</td>\n",
       "      <td>69.137827</td>\n",
       "      <td>68.094567</td>\n",
       "    </tr>\n",
       "    <tr>\n",
       "      <th>std</th>\n",
       "      <td>15.172668</td>\n",
       "      <td>14.603732</td>\n",
       "      <td>15.182844</td>\n",
       "    </tr>\n",
       "    <tr>\n",
       "      <th>min</th>\n",
       "      <td>0.000000</td>\n",
       "      <td>17.000000</td>\n",
       "      <td>10.000000</td>\n",
       "    </tr>\n",
       "    <tr>\n",
       "      <th>25%</th>\n",
       "      <td>57.000000</td>\n",
       "      <td>59.000000</td>\n",
       "      <td>58.000000</td>\n",
       "    </tr>\n",
       "    <tr>\n",
       "      <th>50%</th>\n",
       "      <td>66.000000</td>\n",
       "      <td>70.000000</td>\n",
       "      <td>69.000000</td>\n",
       "    </tr>\n",
       "    <tr>\n",
       "      <th>75%</th>\n",
       "      <td>77.000000</td>\n",
       "      <td>79.000000</td>\n",
       "      <td>79.000000</td>\n",
       "    </tr>\n",
       "    <tr>\n",
       "      <th>max</th>\n",
       "      <td>100.000000</td>\n",
       "      <td>100.000000</td>\n",
       "      <td>100.000000</td>\n",
       "    </tr>\n",
       "  </tbody>\n",
       "</table>\n",
       "</div>"
      ],
      "text/plain": [
       "       math score  reading score  writing score\n",
       "count  994.000000     994.000000     994.000000\n",
       "mean    66.081489      69.137827      68.094567\n",
       "std     15.172668      14.603732      15.182844\n",
       "min      0.000000      17.000000      10.000000\n",
       "25%     57.000000      59.000000      58.000000\n",
       "50%     66.000000      70.000000      69.000000\n",
       "75%     77.000000      79.000000      79.000000\n",
       "max    100.000000     100.000000     100.000000"
      ]
     },
     "execution_count": 1,
     "metadata": {},
     "output_type": "execute_result"
    }
   ],
   "source": [
    "import pandas as pd\n",
    "df = pd.read_csv('StudentsPerformance.csv')\n",
    "df.describe()"
   ]
  },
  {
   "cell_type": "code",
   "execution_count": 2,
   "id": "5efb8483",
   "metadata": {
    "tags": []
   },
   "outputs": [],
   "source": [
    "df['math score'].fillna(66.081489, inplace = True)\n",
    "df['reading score'].fillna(69.137827, inplace = True)\n",
    "df['writing score'].fillna(68.094567, inplace = True)"
   ]
  },
  {
   "cell_type": "code",
   "execution_count": 3,
   "id": "51685364",
   "metadata": {
    "tags": []
   },
   "outputs": [],
   "source": [
    "import numpy as np\n",
    "maths = np.array(df['math score'])\n",
    "reading = np.array(df['reading score'])\n",
    "writing = np.array(df['writing score'])"
   ]
  },
  {
   "cell_type": "code",
   "execution_count": 4,
   "id": "dcdb692a",
   "metadata": {
    "tags": []
   },
   "outputs": [
    {
     "data": {
      "text/plain": [
       "<AxesSubplot:>"
      ]
     },
     "execution_count": 4,
     "metadata": {},
     "output_type": "execute_result"
    },
    {
     "data": {
      "image/png": "[encoded data removed]",
      "text/plain": [
       "<Figure size 432x288 with 1 Axes>"
      ]
     },
     "metadata": {
      "needs_background": "light"
     },
     "output_type": "display_data"
    }
   ],
   "source": [
    "df.plot.box(grid = True)"
   ]
  },
  {
   "cell_type": "code",
   "execution_count": 5,
   "id": "e55df262",
   "metadata": {
    "tags": []
   },
   "outputs": [],
   "source": [
    "def inter_quantile(col):\n",
    "    outliers = []\n",
    "    filtered = []\n",
    "    Q3 = np.quantile(col, 0.75)\n",
    "    Q1 = np.quantile(col, 0.25)\n",
    "    IQR = Q3 - Q1\n",
    "    upper_range = Q3 + (1.5 * IQR)\n",
    "    lower_range = Q1 - (1.5 * IQR)\n",
    "    for i in col:\n",
    "        if i > lower_range and i < upper_range:\n",
    "            filtered.append(i)\n",
    "        else:\n",
    "            outliers.append(i)\n",
    "    return filtered\n",
    "    print(outliers)"
   ]
  },
  {
   "cell_type": "code",
   "execution_count": 6,
   "id": "117b387e",
   "metadata": {
    "tags": []
   },
   "outputs": [],
   "source": [
    "o1 = inter_quantile(df['math score'])\n",
    "o2 = inter_quantile(df['reading score'])\n",
    "o3 = inter_quantile(df['writing score'])"
   ]
  },
  {
   "cell_type": "code",
   "execution_count": 7,
   "id": "6bfbcb54",
   "metadata": {
    "tags": []
   },
   "outputs": [
    {
     "data": {
      "text/plain": [
       "{'whiskers': [<matplotlib.lines.Line2D at 0x7f2086cb2970>,\n",
       "  <matplotlib.lines.Line2D at 0x7f2086cb2c40>],\n",
       " 'caps': [<matplotlib.lines.Line2D at 0x7f2086cb2f10>,\n",
       "  <matplotlib.lines.Line2D at 0x7f2086c3f220>],\n",
       " 'boxes': [<matplotlib.lines.Line2D at 0x7f2086cb26a0>],\n",
       " 'medians': [<matplotlib.lines.Line2D at 0x7f2086c3f4f0>],\n",
       " 'fliers': [<matplotlib.lines.Line2D at 0x7f2086c3f7c0>],\n",
       " 'means': []}"
      ]
     },
     "execution_count": 7,
     "metadata": {},
     "output_type": "execute_result"
    },
    {
     "data": {
      "image/png": "[encoded data removed]",
      "text/plain": [
       "<Figure size 432x288 with 1 Axes>"
      ]
     },
     "metadata": {
      "needs_background": "light"
     },
     "output_type": "display_data"
    }
   ],
   "source": [
    "import matplotlib.pyplot as plt\n",
    "plt.boxplot(df['math score'])"
   ]
  },
  {
   "cell_type": "code",
   "execution_count": 8,
   "id": "dd677478",
   "metadata": {
    "tags": []
   },
   "outputs": [
    {
     "data": {
      "text/plain": [
       "{'whiskers': [<matplotlib.lines.Line2D at 0x7f2086c1e9a0>,\n",
       "  <matplotlib.lines.Line2D at 0x7f2086c1ec70>],\n",
       " 'caps': [<matplotlib.lines.Line2D at 0x7f2086c1ef40>,\n",
       "  <matplotlib.lines.Line2D at 0x7f2086c30250>],\n",
       " 'boxes': [<matplotlib.lines.Line2D at 0x7f2086c1e6d0>],\n",
       " 'medians': [<matplotlib.lines.Line2D at 0x7f2086c30520>],\n",
       " 'fliers': [<matplotlib.lines.Line2D at 0x7f2086c307f0>],\n",
       " 'means': []}"
      ]
     },
     "execution_count": 8,
     "metadata": {},
     "output_type": "execute_result"
    },
    {
     "data": {
      "image/png": "[encoded data removed]",
      "text/plain": [
       "<Figure size 432x288 with 1 Axes>"
      ]
     },
     "metadata": {
      "needs_background": "light"
     },
     "output_type": "display_data"
    }
   ],
   "source": [
    "plt.boxplot(o1)"
   ]
  },
  {
   "cell_type": "code",
   "execution_count": 9,
   "id": "43d0c121",
   "metadata": {
    "tags": []
   },
   "outputs": [
    {
     "data": {
      "text/plain": [
       "{'whiskers': [<matplotlib.lines.Line2D at 0x7f2086b8f700>,\n",
       "  <matplotlib.lines.Line2D at 0x7f2086b8f9d0>],\n",
       " 'caps': [<matplotlib.lines.Line2D at 0x7f2086b8fca0>,\n",
       "  <matplotlib.lines.Line2D at 0x7f2086b8ff70>],\n",
       " 'boxes': [<matplotlib.lines.Line2D at 0x7f2086b8f430>],\n",
       " 'medians': [<matplotlib.lines.Line2D at 0x7f2086b9c280>],\n",
       " 'fliers': [<matplotlib.lines.Line2D at 0x7f2086b9c550>],\n",
       " 'means': []}"
      ]
     },
     "execution_count": 9,
     "metadata": {},
     "output_type": "execute_result"
    },
    {
     "data": {
      "image/png": "[encoded data removed]",
      "text/plain": [
       "<Figure size 432x288 with 1 Axes>"
      ]
     },
     "metadata": {
      "needs_background": "light"
     },
     "output_type": "display_data"
    }
   ],
   "source": [
    "plt.boxplot(df['reading score'])"
   ]
  },
  {
   "cell_type": "code",
   "execution_count": 10,
   "id": "c8be5ce0",
   "metadata": {
    "tags": []
   },
   "outputs": [
    {
     "data": {
      "text/plain": [
       "{'whiskers': [<matplotlib.lines.Line2D at 0x7f2086b65fa0>,\n",
       "  <matplotlib.lines.Line2D at 0x7f2086b752b0>],\n",
       " 'caps': [<matplotlib.lines.Line2D at 0x7f2086b75580>,\n",
       "  <matplotlib.lines.Line2D at 0x7f2086b75850>],\n",
       " 'boxes': [<matplotlib.lines.Line2D at 0x7f2086b65cd0>],\n",
       " 'medians': [<matplotlib.lines.Line2D at 0x7f2086b75b20>],\n",
       " 'fliers': [<matplotlib.lines.Line2D at 0x7f2086b75df0>],\n",
       " 'means': []}"
      ]
     },
     "execution_count": 10,
     "metadata": {},
     "output_type": "execute_result"
    },
    {
     "data": {
      "image/png": "[encoded data removed]",
      "text/plain": [
       "<Figure size 432x288 with 1 Axes>"
      ]
     },
     "metadata": {
      "needs_background": "light"
     },
     "output_type": "display_data"
    }
   ],
   "source": [
    "plt.boxplot(o2)"
   ]
  },
  {
   "cell_type": "code",
   "execution_count": 11,
   "id": "fccaa838",
   "metadata": {
    "tags": []
   },
   "outputs": [
    {
     "data": {
      "text/plain": [
       "{'whiskers': [<matplotlib.lines.Line2D at 0x7f2086acdfa0>,\n",
       "  <matplotlib.lines.Line2D at 0x7f2086adc2b0>],\n",
       " 'caps': [<matplotlib.lines.Line2D at 0x7f2086adc580>,\n",
       "  <matplotlib.lines.Line2D at 0x7f2086adc850>],\n",
       " 'boxes': [<matplotlib.lines.Line2D at 0x7f2086acdcd0>],\n",
       " 'medians': [<matplotlib.lines.Line2D at 0x7f2086adcb20>],\n",
       " 'fliers': [<matplotlib.lines.Line2D at 0x7f2086adcdf0>],\n",
       " 'means': []}"
      ]
     },
     "execution_count": 11,
     "metadata": {},
     "output_type": "execute_result"
    },
    {
     "data": {
      "image/png": "[encoded data removed]",
      "text/plain": [
       "<Figure size 432x288 with 1 Axes>"
      ]
     },
     "metadata": {
      "needs_background": "light"
     },
     "output_type": "display_data"
    }
   ],
   "source": [
    "plt.boxplot(df['writing score'])"
   ]
  },
  {
   "cell_type": "code",
   "execution_count": 12,
   "id": "8b2338fd",
   "metadata": {
    "tags": []
   },
   "outputs": [
    {
     "data": {
      "text/plain": [
       "{'whiskers': [<matplotlib.lines.Line2D at 0x7f2086ab0d00>,\n",
       "  <matplotlib.lines.Line2D at 0x7f2086ab0fd0>],\n",
       " 'caps': [<matplotlib.lines.Line2D at 0x7f2086a3e2e0>,\n",
       "  <matplotlib.lines.Line2D at 0x7f2086a3e5b0>],\n",
       " 'boxes': [<matplotlib.lines.Line2D at 0x7f2086ab0a30>],\n",
       " 'medians': [<matplotlib.lines.Line2D at 0x7f2086a3e880>],\n",
       " 'fliers': [<matplotlib.lines.Line2D at 0x7f2086a3eb50>],\n",
       " 'means': []}"
      ]
     },
     "execution_count": 12,
     "metadata": {},
     "output_type": "execute_result"
    },
    {
     "data": {
      "image/png": "[encoded data removed]",
      "text/plain": [
       "<Figure size 432x288 with 1 Axes>"
      ]
     },
     "metadata": {
      "needs_background": "light"
     },
     "output_type": "display_data"
    }
   ],
   "source": [
    "plt.boxplot(o3)"
   ]
  },
  {
   "cell_type": "code",
   "execution_count": 13,
   "id": "67268a75",
   "metadata": {},
   "outputs": [],
   "source": [
    "#Z- Score method\n",
    "from scipy import stats\n",
    "def z_score(col):\n",
    "    mean = np.mean(col)\n",
    "    std = np.std(col)\n",
    "    threshold = 3\n",
    "    outlier = []\n",
    "    op = []\n",
    "    for i in col:\n",
    "        z = (i-mean)/std\n",
    "        z = abs(z)\n",
    "        if z > threshold:\n",
    "            outlier.append(i)\n",
    "        else:\n",
    "            op.append(i)\n",
    "    return op\n",
    "    print('outlier in dataset is', outlier)"
   ]
  },
  {
   "cell_type": "code",
   "execution_count": 14,
   "id": "827a948f",
   "metadata": {
    "tags": []
   },
   "outputs": [],
   "source": [
    "o1 = z_score(maths)\n",
    "o2 = z_score(reading)\n",
    "o3 = z_score(writing)"
   ]
  },
  {
   "cell_type": "code",
   "execution_count": 15,
   "id": "d594fca5",
   "metadata": {
    "tags": []
   },
   "outputs": [
    {
     "data": {
      "text/plain": [
       "{'whiskers': [<matplotlib.lines.Line2D at 0x7f207a590cd0>,\n",
       "  <matplotlib.lines.Line2D at 0x7f207a590fa0>],\n",
       " 'caps': [<matplotlib.lines.Line2D at 0x7f207a5a12b0>,\n",
       "  <matplotlib.lines.Line2D at 0x7f207a5a1580>],\n",
       " 'boxes': [<matplotlib.lines.Line2D at 0x7f207a590a00>],\n",
       " 'medians': [<matplotlib.lines.Line2D at 0x7f207a5a1850>],\n",
       " 'fliers': [<matplotlib.lines.Line2D at 0x7f207a5a1b20>],\n",
       " 'means': []}"
      ]
     },
     "execution_count": 15,
     "metadata": {},
     "output_type": "execute_result"
    },
    {
     "data": {
      "image/png": "[encoded data removed]",
      "text/plain": [
       "<Figure size 432x288 with 1 Axes>"
      ]
     },
     "metadata": {
      "needs_background": "light"
     },
     "output_type": "display_data"
    }
   ],
   "source": [
    "plt.boxplot(o3)"
   ]
  },
  {
   "cell_type": "code",
   "execution_count": null,
   "id": "830660db",
   "metadata": {},
   "outputs": [],
   "source": []
  }
 ],
 "metadata": {
  "kernelspec": {
   "display_name": "Python 3",
   "language": "python",
   "name": "python3"
  },
  "language_info": {
   "codemirror_mode": {
    "name": "ipython",
    "version": 3
   },
   "file_extension": ".py",
   "mimetype": "text/x-python",
   "name": "python",
   "nbconvert_exporter": "python",
   "pygments_lexer": "ipython3",
   "version": "3.8.10"
  }
 },
 "nbformat": 4,
 "nbformat_minor": 5
}
