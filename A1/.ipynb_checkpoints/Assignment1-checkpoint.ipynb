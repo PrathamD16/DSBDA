{
 "cells": [
  {
   "cell_type": "code",
   "execution_count": 19,
   "id": "ff1f750a",
   "metadata": {},
   "outputs": [],
   "source": [
    "import pandas as pd\n",
    "df = pd.read_csv('Salary_dataset.csv')\n",
    "df_drop = pd.read_csv('Salary_dataset.csv')#Used to perform dropna, where null values will be discarded\n",
    "df_fill = pd.read_csv('Salary_dataset.csv')#Used to perform fillna, where null values will be replaced by mean"
   ]
  },
  {
   "cell_type": "code",
   "execution_count": 22,
   "id": "d1a8a21d",
   "metadata": {},
   "outputs": [],
   "source": [
    "df_drop.dropna(inplace = True)#Null values are removed"
   ]
  },
  {
   "cell_type": "code",
   "execution_count": 23,
   "id": "e53f0e65",
   "metadata": {},
   "outputs": [
    {
     "name": "stdout",
     "output_type": "stream",
     "text": [
      "    YearsExperience    Salary Gender\n",
      "0               1.2   39344.0      M\n",
      "1               1.4   46206.0      F\n",
      "2               1.6   37732.0      F\n",
      "3               2.1   43526.0      F\n",
      "4               2.3   39892.0      M\n",
      "5               3.0   56643.0      M\n",
      "6               3.1   60151.0      M\n",
      "8               4.0   64446.0      M\n",
      "9               3.8   57190.0      F\n",
      "10              4.0   63219.0      M\n",
      "11              4.1   55795.0      M\n",
      "12              4.1   56958.0      F\n",
      "13              4.2   57082.0      F\n",
      "14              4.6   61112.0      M\n",
      "15              5.0   12300.0      M\n",
      "17              5.4   83089.0      F\n",
      "18              6.0   81364.0      F\n",
      "19              6.1   93941.0      F\n",
      "20              6.9   91739.0      M\n",
      "21              7.2   98274.0      M\n",
      "22              8.0  101303.0      F\n",
      "23              8.3  113813.0      F\n",
      "24              8.8       5.0      M\n",
      "25              9.1  105583.0      F\n",
      "26              9.6  116970.0      M\n",
      "27              9.7  112636.0      F\n",
      "28             10.4  122392.0      M\n",
      "29             10.6  121873.0      F\n",
      "30              5.2   66030.0      M\n"
     ]
    }
   ],
   "source": [
    "print(df_drop)"
   ]
  },
  {
   "cell_type": "code",
   "execution_count": 24,
   "id": "d9c5e533",
   "metadata": {},
   "outputs": [
    {
     "name": "stdout",
     "output_type": "stream",
     "text": [
      "    YearsExperience    Salary Gender\n",
      "0               1.2   39344.0      M\n",
      "1               1.4   46206.0      F\n",
      "2               1.6   37732.0      F\n",
      "3               2.1   43526.0      F\n",
      "4               2.3   39892.0      M\n",
      "5               3.0   56643.0      M\n",
      "6               3.1   60151.0      M\n",
      "7               NaN   54446.0      F\n",
      "8               4.0   64446.0      M\n",
      "9               3.8   57190.0      F\n",
      "10              4.0   63219.0      M\n",
      "11              4.1   55795.0      M\n",
      "12              4.1   56958.0      F\n",
      "13              4.2   57082.0      F\n",
      "14              4.6   61112.0      M\n",
      "15              5.0   12300.0      M\n",
      "16              5.2       NaN      M\n",
      "17              5.4   83089.0      F\n",
      "18              6.0   81364.0      F\n",
      "19              6.1   93941.0      F\n",
      "20              6.9   91739.0      M\n",
      "21              7.2   98274.0      M\n",
      "22              8.0  101303.0      F\n",
      "23              8.3  113813.0      F\n",
      "24              8.8       5.0      M\n",
      "25              9.1  105583.0      F\n",
      "26              9.6  116970.0      M\n",
      "27              9.7  112636.0      F\n",
      "28             10.4  122392.0      M\n",
      "29             10.6  121873.0      F\n",
      "30              5.2   66030.0      M\n"
     ]
    }
   ],
   "source": [
    "print(df_fill)"
   ]
  },
  {
   "cell_type": "code",
   "execution_count": 25,
   "id": "b50672f2",
   "metadata": {},
   "outputs": [],
   "source": [
    "x = df_fill['YearsExperience'].mean()\n",
    "y = df_fill['Salary'].mean()\n",
    "df_fill['YearsExperience'].fillna(x, inplace = True)\n",
    "df_fill['Salary'].fillna(y, inplace = True)\n",
    "#Null values are replaced by mean value of the column"
   ]
  },
  {
   "cell_type": "code",
   "execution_count": 26,
   "id": "7ae42e12",
   "metadata": {},
   "outputs": [
    {
     "name": "stdout",
     "output_type": "stream",
     "text": [
      "    YearsExperience    Salary Gender\n",
      "0               1.2   39344.0      M\n",
      "1               1.4   46206.0      F\n",
      "2               1.6   37732.0      F\n",
      "3               2.1   43526.0      F\n",
      "4               2.3   39892.0      M\n",
      "5               3.0   56643.0      M\n",
      "6               3.1   60151.0      M\n",
      "7               5.5   54446.0      F\n",
      "8               4.0   64446.0      M\n",
      "9               3.8   57190.0      F\n",
      "10              4.0   63219.0      M\n",
      "11              4.1   55795.0      M\n",
      "12              4.1   56958.0      F\n",
      "13              4.2   57082.0      F\n",
      "14              4.6   61112.0      M\n",
      "15              5.0   12300.0      M\n",
      "16              5.2   70501.8      M\n",
      "17              5.4   83089.0      F\n",
      "18              6.0   81364.0      F\n",
      "19              6.1   93941.0      F\n",
      "20              6.9   91739.0      M\n",
      "21              7.2   98274.0      M\n",
      "22              8.0  101303.0      F\n",
      "23              8.3  113813.0      F\n",
      "24              8.8       5.0      M\n",
      "25              9.1  105583.0      F\n",
      "26              9.6  116970.0      M\n",
      "27              9.7  112636.0      F\n",
      "28             10.4  122392.0      M\n",
      "29             10.6  121873.0      F\n",
      "30              5.2   66030.0      M\n"
     ]
    }
   ],
   "source": [
    "print(df_fill)"
   ]
  },
  {
   "cell_type": "code",
   "execution_count": 27,
   "id": "f4db0af5",
   "metadata": {},
   "outputs": [
    {
     "name": "stdout",
     "output_type": "stream",
     "text": [
      "<class 'pandas.core.frame.DataFrame'>\n",
      "RangeIndex: 31 entries, 0 to 30\n",
      "Data columns (total 3 columns):\n",
      " #   Column           Non-Null Count  Dtype  \n",
      "---  ------           --------------  -----  \n",
      " 0   YearsExperience  31 non-null     float64\n",
      " 1   Salary           31 non-null     float64\n",
      " 2   Gender           31 non-null     object \n",
      "dtypes: float64(2), object(1)\n",
      "memory usage: 872.0+ bytes\n"
     ]
    }
   ],
   "source": [
    "#performing astype\n",
    "df_fill.info()"
   ]
  },
  {
   "cell_type": "code",
   "execution_count": 29,
   "id": "b603d7b1",
   "metadata": {},
   "outputs": [],
   "source": [
    "df_fill = df_fill.astype(str)#astype function"
   ]
  },
  {
   "cell_type": "code",
   "execution_count": 31,
   "id": "7f969dc3",
   "metadata": {},
   "outputs": [
    {
     "name": "stdout",
     "output_type": "stream",
     "text": [
      "<class 'pandas.core.frame.DataFrame'>\n",
      "RangeIndex: 31 entries, 0 to 30\n",
      "Data columns (total 3 columns):\n",
      " #   Column           Non-Null Count  Dtype \n",
      "---  ------           --------------  ----- \n",
      " 0   YearsExperience  31 non-null     object\n",
      " 1   Salary           31 non-null     object\n",
      " 2   Gender           31 non-null     object\n",
      "dtypes: object(3)\n",
      "memory usage: 872.0+ bytes\n"
     ]
    }
   ],
   "source": [
    "df_fill.info()"
   ]
  },
  {
   "cell_type": "code",
   "execution_count": 32,
   "id": "9cc20068",
   "metadata": {},
   "outputs": [
    {
     "data": {
      "text/html": [
       "<div>\n",
       "<style scoped>\n",
       "    .dataframe tbody tr th:only-of-type {\n",
       "        vertical-align: middle;\n",
       "    }\n",
       "\n",
       "    .dataframe tbody tr th {\n",
       "        vertical-align: top;\n",
       "    }\n",
       "\n",
       "    .dataframe thead th {\n",
       "        text-align: right;\n",
       "    }\n",
       "</style>\n",
       "<table border=\"1\" class=\"dataframe\">\n",
       "  <thead>\n",
       "    <tr style=\"text-align: right;\">\n",
       "      <th></th>\n",
       "      <th>YearsExperience</th>\n",
       "      <th>Salary</th>\n",
       "    </tr>\n",
       "  </thead>\n",
       "  <tbody>\n",
       "    <tr>\n",
       "      <th>count</th>\n",
       "      <td>30.000000</td>\n",
       "      <td>30.000000</td>\n",
       "    </tr>\n",
       "    <tr>\n",
       "      <th>mean</th>\n",
       "      <td>5.500000</td>\n",
       "      <td>70501.800000</td>\n",
       "    </tr>\n",
       "    <tr>\n",
       "      <th>std</th>\n",
       "      <td>2.794329</td>\n",
       "      <td>31914.932142</td>\n",
       "    </tr>\n",
       "    <tr>\n",
       "      <th>min</th>\n",
       "      <td>1.200000</td>\n",
       "      <td>5.000000</td>\n",
       "    </tr>\n",
       "    <tr>\n",
       "      <th>25%</th>\n",
       "      <td>3.850000</td>\n",
       "      <td>54783.250000</td>\n",
       "    </tr>\n",
       "    <tr>\n",
       "      <th>50%</th>\n",
       "      <td>5.100000</td>\n",
       "      <td>62165.500000</td>\n",
       "    </tr>\n",
       "    <tr>\n",
       "      <th>75%</th>\n",
       "      <td>7.800000</td>\n",
       "      <td>97190.750000</td>\n",
       "    </tr>\n",
       "    <tr>\n",
       "      <th>max</th>\n",
       "      <td>10.600000</td>\n",
       "      <td>122392.000000</td>\n",
       "    </tr>\n",
       "  </tbody>\n",
       "</table>\n",
       "</div>"
      ],
      "text/plain": [
       "       YearsExperience         Salary\n",
       "count        30.000000      30.000000\n",
       "mean          5.500000   70501.800000\n",
       "std           2.794329   31914.932142\n",
       "min           1.200000       5.000000\n",
       "25%           3.850000   54783.250000\n",
       "50%           5.100000   62165.500000\n",
       "75%           7.800000   97190.750000\n",
       "max          10.600000  122392.000000"
      ]
     },
     "execution_count": 32,
     "metadata": {},
     "output_type": "execute_result"
    }
   ],
   "source": [
    "#describing dataframe\n",
    "df.describe()"
   ]
  },
  {
   "cell_type": "code",
   "execution_count": 40,
   "id": "bbc54bdc",
   "metadata": {},
   "outputs": [],
   "source": [
    "df_gender = pd.get_dummies(df_drop['Gender'])#getting Columns of cleaned dataframe"
   ]
  },
  {
   "cell_type": "code",
   "execution_count": 41,
   "id": "2d776841",
   "metadata": {},
   "outputs": [],
   "source": [
    "df_cat = pd.concat([df_drop, df_gender], axis = 1)"
   ]
  },
  {
   "cell_type": "code",
   "execution_count": 42,
   "id": "3f566b6c",
   "metadata": {},
   "outputs": [
    {
     "name": "stdout",
     "output_type": "stream",
     "text": [
      "    YearsExperience    Salary Gender  F  M\n",
      "0               1.2   39344.0      M  0  1\n",
      "1               1.4   46206.0      F  1  0\n",
      "2               1.6   37732.0      F  1  0\n",
      "3               2.1   43526.0      F  1  0\n",
      "4               2.3   39892.0      M  0  1\n",
      "5               3.0   56643.0      M  0  1\n",
      "6               3.1   60151.0      M  0  1\n",
      "8               4.0   64446.0      M  0  1\n",
      "9               3.8   57190.0      F  1  0\n",
      "10              4.0   63219.0      M  0  1\n",
      "11              4.1   55795.0      M  0  1\n",
      "12              4.1   56958.0      F  1  0\n",
      "13              4.2   57082.0      F  1  0\n",
      "14              4.6   61112.0      M  0  1\n",
      "15              5.0   12300.0      M  0  1\n",
      "17              5.4   83089.0      F  1  0\n",
      "18              6.0   81364.0      F  1  0\n",
      "19              6.1   93941.0      F  1  0\n",
      "20              6.9   91739.0      M  0  1\n",
      "21              7.2   98274.0      M  0  1\n",
      "22              8.0  101303.0      F  1  0\n",
      "23              8.3  113813.0      F  1  0\n",
      "24              8.8       5.0      M  0  1\n",
      "25              9.1  105583.0      F  1  0\n",
      "26              9.6  116970.0      M  0  1\n",
      "27              9.7  112636.0      F  1  0\n",
      "28             10.4  122392.0      M  0  1\n",
      "29             10.6  121873.0      F  1  0\n",
      "30              5.2   66030.0      M  0  1\n"
     ]
    }
   ],
   "source": [
    "print(df_cat)"
   ]
  },
  {
   "cell_type": "code",
   "execution_count": 56,
   "id": "85e640e5",
   "metadata": {},
   "outputs": [],
   "source": [
    "#normalization method\n",
    "df_normal = df.copy()"
   ]
  },
  {
   "cell_type": "code",
   "execution_count": 57,
   "id": "0ccb7bb0",
   "metadata": {},
   "outputs": [],
   "source": [
    "x = df_normal['YearsExperience'].mean()\n",
    "y = df_normal['Salary'].mean()\n",
    "df_normal['YearsExperience'].fillna(x, inplace = True)\n",
    "df_normal['Salary'].fillna(y, inplace = True)"
   ]
  },
  {
   "cell_type": "code",
   "execution_count": 58,
   "id": "aef6033b",
   "metadata": {},
   "outputs": [
    {
     "name": "stdout",
     "output_type": "stream",
     "text": [
      "    YearsExperience    Salary Gender\n",
      "0               1.2   39344.0      M\n",
      "1               1.4   46206.0      F\n",
      "2               1.6   37732.0      F\n",
      "3               2.1   43526.0      F\n",
      "4               2.3   39892.0      M\n",
      "5               3.0   56643.0      M\n",
      "6               3.1   60151.0      M\n",
      "7               5.5   54446.0      F\n",
      "8               4.0   64446.0      M\n",
      "9               3.8   57190.0      F\n",
      "10              4.0   63219.0      M\n",
      "11              4.1   55795.0      M\n",
      "12              4.1   56958.0      F\n",
      "13              4.2   57082.0      F\n",
      "14              4.6   61112.0      M\n",
      "15              5.0   12300.0      M\n",
      "16              5.2   70501.8      M\n",
      "17              5.4   83089.0      F\n",
      "18              6.0   81364.0      F\n",
      "19              6.1   93941.0      F\n",
      "20              6.9   91739.0      M\n",
      "21              7.2   98274.0      M\n",
      "22              8.0  101303.0      F\n",
      "23              8.3  113813.0      F\n",
      "24              8.8       5.0      M\n",
      "25              9.1  105583.0      F\n",
      "26              9.6  116970.0      M\n",
      "27              9.7  112636.0      F\n",
      "28             10.4  122392.0      M\n",
      "29             10.6  121873.0      F\n",
      "30              5.2   66030.0      M\n"
     ]
    }
   ],
   "source": [
    "print(df_normal)"
   ]
  },
  {
   "cell_type": "code",
   "execution_count": 59,
   "id": "122737f2",
   "metadata": {},
   "outputs": [
    {
     "name": "stdout",
     "output_type": "stream",
     "text": [
      "    YearsExperience    Salary\n",
      "0               1.2   39344.0\n",
      "1               1.4   46206.0\n",
      "2               1.6   37732.0\n",
      "3               2.1   43526.0\n",
      "4               2.3   39892.0\n",
      "5               3.0   56643.0\n",
      "6               3.1   60151.0\n",
      "7               5.5   54446.0\n",
      "8               4.0   64446.0\n",
      "9               3.8   57190.0\n",
      "10              4.0   63219.0\n",
      "11              4.1   55795.0\n",
      "12              4.1   56958.0\n",
      "13              4.2   57082.0\n",
      "14              4.6   61112.0\n",
      "15              5.0   12300.0\n",
      "16              5.2   70501.8\n",
      "17              5.4   83089.0\n",
      "18              6.0   81364.0\n",
      "19              6.1   93941.0\n",
      "20              6.9   91739.0\n",
      "21              7.2   98274.0\n",
      "22              8.0  101303.0\n",
      "23              8.3  113813.0\n",
      "24              8.8       5.0\n",
      "25              9.1  105583.0\n",
      "26              9.6  116970.0\n",
      "27              9.7  112636.0\n",
      "28             10.4  122392.0\n",
      "29             10.6  121873.0\n",
      "30              5.2   66030.0\n"
     ]
    }
   ],
   "source": [
    "df_normal = df_normal.drop(['Gender'],axis = 1)\n",
    "print(df_normal)"
   ]
  },
  {
   "cell_type": "code",
   "execution_count": 61,
   "id": "67d6a3fb",
   "metadata": {},
   "outputs": [],
   "source": [
    "for i in df_normal.columns:\n",
    "    df_normal[i] = (df_normal[i] - df_normal[i].min())/(df_normal[i].max() - df_normal[i].min())"
   ]
  },
  {
   "cell_type": "code",
   "execution_count": 63,
   "id": "93a61ef7",
   "metadata": {},
   "outputs": [
    {
     "name": "stdout",
     "output_type": "stream",
     "text": [
      "    YearsExperience    Salary\n",
      "0          0.000000  0.321431\n",
      "1          0.021277  0.377499\n",
      "2          0.042553  0.308260\n",
      "3          0.095745  0.355601\n",
      "4          0.117021  0.325909\n",
      "5          0.191489  0.462778\n",
      "6          0.202128  0.491441\n",
      "7          0.457447  0.444827\n",
      "8          0.297872  0.526535\n",
      "9          0.276596  0.467247\n",
      "10         0.297872  0.516509\n",
      "11         0.308511  0.455849\n",
      "12         0.308511  0.465352\n",
      "13         0.319149  0.466365\n",
      "14         0.361702  0.499293\n",
      "15         0.404255  0.100460\n",
      "16         0.425532  0.576015\n",
      "17         0.446809  0.678863\n",
      "18         0.510638  0.664768\n",
      "19         0.521277  0.767532\n",
      "20         0.606383  0.749540\n",
      "21         0.638298  0.802937\n",
      "22         0.723404  0.827686\n",
      "23         0.755319  0.929903\n",
      "24         0.808511  0.000000\n",
      "25         0.840426  0.862657\n",
      "26         0.893617  0.955698\n",
      "27         0.904255  0.920286\n",
      "28         0.978723  1.000000\n",
      "29         1.000000  0.995759\n",
      "30         0.425532  0.539477\n"
     ]
    }
   ],
   "source": [
    "print(df_normal) #normalized form of data"
   ]
  },
  {
   "cell_type": "code",
   "execution_count": null,
   "id": "a0111419",
   "metadata": {},
   "outputs": [],
   "source": []
  }
 ],
 "metadata": {
  "kernelspec": {
   "display_name": "Python 3 (ipykernel)",
   "language": "python",
   "name": "python3"
  },
  "language_info": {
   "codemirror_mode": {
    "name": "ipython",
    "version": 3
   },
   "file_extension": ".py",
   "mimetype": "text/x-python",
   "name": "python",
   "nbconvert_exporter": "python",
   "pygments_lexer": "ipython3",
   "version": "3.8.10"
  }
 },
 "nbformat": 4,
 "nbformat_minor": 5
}
